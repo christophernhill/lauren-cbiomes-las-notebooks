{
 "cells": [
  {
   "cell_type": "markdown",
   "metadata": {},
   "source": [
    "# Opening the Intake Catalog"
   ]
  },
  {
   "cell_type": "code",
   "execution_count": 1,
   "metadata": {},
   "outputs": [],
   "source": [
    "import numpy as np\n",
    "%matplotlib inline\n",
    "import matplotlib.pyplot as plt\n",
    "import intake"
   ]
  },
  {
   "cell_type": "markdown",
   "metadata": {},
   "source": [
    "We can load the catalog file with `intake.open_catalog()`. The catalog contains the information needed to access the data for each field in the dataset. You can get a list of the different fields in the dataset with `list()`."
   ]
  },
  {
   "cell_type": "code",
   "execution_count": 2,
   "metadata": {},
   "outputs": [
    {
     "name": "stdout",
     "output_type": "stream",
     "text": [
      "['ChlTotal', 'Cocco', 'DIN', 'Denit', 'Diatom']\n"
     ]
    }
   ],
   "source": [
    "dset = \"darwin_v0_2_cs510\"\n",
    "#catalog = intake.open_catalog(\"catalog/\"+dset + '.yml')\n",
    "#catalog = intake.open_catalog(\"intake://localhost:5000\")\n",
    "catalog = intake.open_catalog(\"darwin_v0.2_cs510.yml\")\n",
    "# catalog = catalog[dset]\n",
    "fldnames = list(catalog)\n",
    "print(fldnames[0:5])"
   ]
  },
  {
   "cell_type": "markdown",
   "metadata": {},
   "source": [
    "# Retrieving and Plotting Data"
   ]
  },
  {
   "cell_type": "markdown",
   "metadata": {},
   "source": [
    "We'll pick a field, c01 concentration. Each entry in the catalog can be accessed like a dictionary, with the field name as the key. Then we can get some basic information and metadata about this field with the `describe()` function."
   ]
  },
  {
   "cell_type": "code",
   "execution_count": 3,
   "metadata": {},
   "outputs": [
    {
     "data": {
      "text/plain": [
       "{'name': 'TRAC21',\n",
       " 'container': 'xarray',\n",
       " 'plugin': ['opendap'],\n",
       " 'driver': ['opendap'],\n",
       " 'description': '',\n",
       " 'direct_access': 'allow',\n",
       " 'user_parameters': [],\n",
       " 'metadata': {'A': 'Product identifier: a `cs510` model run by `jahn@mit.edu`',\n",
       "  'Conventions': 'CF-1.6',\n",
       "  'DODS_EXTRA.Unlimited_Dimension': 'time',\n",
       "  'NCTiles': '0.1.9',\n",
       "  '_FillValue': nan,\n",
       "  'category': 'PlanktonBiomass',\n",
       "  'coords': ('lon_c', 'lat_c', 'dep_c', 'time'),\n",
       "  'data_vars': {'TRAC21': ['lon_c', 'lat_c', 'dep_c', 'time']},\n",
       "  'date': '10-Aug-2020',\n",
       "  'description': 'TRAC21 -- This product has been provided by the Simons Collaboration on Computational Biogeochemical Modeling of Marine Ecosystems (https://cbiomes.org/)',\n",
       "  'dims': {'dep_c': 50, 'lat_c': 1080, 'lon_c': 2160, 'time': 2679},\n",
       "  'itile': 1.0,\n",
       "  'long_name': 'c01 concentration',\n",
       "  'missing_value': nan,\n",
       "  'ntile': 1.0,\n",
       "  'units': 'mmol C/m^3'},\n",
       " 'args': {'urlpath': 'http://engaging-opendap.mit.edu:8080/thredds/dodsC/nese/darwin_v0.2_cs510/PlanktonBiomass/darwin_v0.2_cs510_PlanktonBiomass_TRAC21.nc'}}"
      ]
     },
     "execution_count": 3,
     "metadata": {},
     "output_type": "execute_result"
    }
   ],
   "source": [
    "fldname = \"TRAC21\" # c01 concentration\n",
    "catalog_entry = catalog[fldname]\n",
    "\n",
    "catalog_entry.describe()"
   ]
  },
  {
   "cell_type": "markdown",
   "metadata": {},
   "source": [
    "Once we load the catalog we can use the `read_chunked()` function on a catalog entry to read in a particular field. At this point we have an xarray `DataArray` object.\n",
    "\n",
    "Then you can create variables that point to the data on OpenDap. This does not download data at this point. Data is only downloaded when you specify a \"slice\"."
   ]
  },
  {
   "cell_type": "code",
   "execution_count": 4,
   "metadata": {},
   "outputs": [
    {
     "data": {
      "text/html": [
       "<div><svg style=\"position: absolute; width: 0; height: 0; overflow: hidden\">\n",
       "<defs>\n",
       "<symbol id=\"icon-database\" viewBox=\"0 0 32 32\">\n",
       "<path d=\"M16 0c-8.837 0-16 2.239-16 5v4c0 2.761 7.163 5 16 5s16-2.239 16-5v-4c0-2.761-7.163-5-16-5z\"></path>\n",
       "<path d=\"M16 17c-8.837 0-16-2.239-16-5v6c0 2.761 7.163 5 16 5s16-2.239 16-5v-6c0 2.761-7.163 5-16 5z\"></path>\n",
       "<path d=\"M16 26c-8.837 0-16-2.239-16-5v6c0 2.761 7.163 5 16 5s16-2.239 16-5v-6c0 2.761-7.163 5-16 5z\"></path>\n",
       "</symbol>\n",
       "<symbol id=\"icon-file-text2\" viewBox=\"0 0 32 32\">\n",
       "<path d=\"M28.681 7.159c-0.694-0.947-1.662-2.053-2.724-3.116s-2.169-2.030-3.116-2.724c-1.612-1.182-2.393-1.319-2.841-1.319h-15.5c-1.378 0-2.5 1.121-2.5 2.5v27c0 1.378 1.122 2.5 2.5 2.5h23c1.378 0 2.5-1.122 2.5-2.5v-19.5c0-0.448-0.137-1.23-1.319-2.841zM24.543 5.457c0.959 0.959 1.712 1.825 2.268 2.543h-4.811v-4.811c0.718 0.556 1.584 1.309 2.543 2.268zM28 29.5c0 0.271-0.229 0.5-0.5 0.5h-23c-0.271 0-0.5-0.229-0.5-0.5v-27c0-0.271 0.229-0.5 0.5-0.5 0 0 15.499-0 15.5 0v7c0 0.552 0.448 1 1 1h7v19.5z\"></path>\n",
       "<path d=\"M23 26h-14c-0.552 0-1-0.448-1-1s0.448-1 1-1h14c0.552 0 1 0.448 1 1s-0.448 1-1 1z\"></path>\n",
       "<path d=\"M23 22h-14c-0.552 0-1-0.448-1-1s0.448-1 1-1h14c0.552 0 1 0.448 1 1s-0.448 1-1 1z\"></path>\n",
       "<path d=\"M23 18h-14c-0.552 0-1-0.448-1-1s0.448-1 1-1h14c0.552 0 1 0.448 1 1s-0.448 1-1 1z\"></path>\n",
       "</symbol>\n",
       "</defs>\n",
       "</svg>\n",
       "<style>/* CSS stylesheet for displaying xarray objects in jupyterlab.\n",
       " *\n",
       " */\n",
       "\n",
       ":root {\n",
       "  --xr-font-color0: var(--jp-content-font-color0, rgba(0, 0, 0, 1));\n",
       "  --xr-font-color2: var(--jp-content-font-color2, rgba(0, 0, 0, 0.54));\n",
       "  --xr-font-color3: var(--jp-content-font-color3, rgba(0, 0, 0, 0.38));\n",
       "  --xr-border-color: var(--jp-border-color2, #e0e0e0);\n",
       "  --xr-disabled-color: var(--jp-layout-color3, #bdbdbd);\n",
       "  --xr-background-color: var(--jp-layout-color0, white);\n",
       "  --xr-background-color-row-even: var(--jp-layout-color1, white);\n",
       "  --xr-background-color-row-odd: var(--jp-layout-color2, #eeeeee);\n",
       "}\n",
       "\n",
       "html[theme=dark],\n",
       "body.vscode-dark {\n",
       "  --xr-font-color0: rgba(255, 255, 255, 1);\n",
       "  --xr-font-color2: rgba(255, 255, 255, 0.54);\n",
       "  --xr-font-color3: rgba(255, 255, 255, 0.38);\n",
       "  --xr-border-color: #1F1F1F;\n",
       "  --xr-disabled-color: #515151;\n",
       "  --xr-background-color: #111111;\n",
       "  --xr-background-color-row-even: #111111;\n",
       "  --xr-background-color-row-odd: #313131;\n",
       "}\n",
       "\n",
       ".xr-wrap {\n",
       "  display: block;\n",
       "  min-width: 300px;\n",
       "  max-width: 700px;\n",
       "}\n",
       "\n",
       ".xr-text-repr-fallback {\n",
       "  /* fallback to plain text repr when CSS is not injected (untrusted notebook) */\n",
       "  display: none;\n",
       "}\n",
       "\n",
       ".xr-header {\n",
       "  padding-top: 6px;\n",
       "  padding-bottom: 6px;\n",
       "  margin-bottom: 4px;\n",
       "  border-bottom: solid 1px var(--xr-border-color);\n",
       "}\n",
       "\n",
       ".xr-header > div,\n",
       ".xr-header > ul {\n",
       "  display: inline;\n",
       "  margin-top: 0;\n",
       "  margin-bottom: 0;\n",
       "}\n",
       "\n",
       ".xr-obj-type,\n",
       ".xr-array-name {\n",
       "  margin-left: 2px;\n",
       "  margin-right: 10px;\n",
       "}\n",
       "\n",
       ".xr-obj-type {\n",
       "  color: var(--xr-font-color2);\n",
       "}\n",
       "\n",
       ".xr-sections {\n",
       "  padding-left: 0 !important;\n",
       "  display: grid;\n",
       "  grid-template-columns: 150px auto auto 1fr 20px 20px;\n",
       "}\n",
       "\n",
       ".xr-section-item {\n",
       "  display: contents;\n",
       "}\n",
       "\n",
       ".xr-section-item input {\n",
       "  display: none;\n",
       "}\n",
       "\n",
       ".xr-section-item input + label {\n",
       "  color: var(--xr-disabled-color);\n",
       "}\n",
       "\n",
       ".xr-section-item input:enabled + label {\n",
       "  cursor: pointer;\n",
       "  color: var(--xr-font-color2);\n",
       "}\n",
       "\n",
       ".xr-section-item input:enabled + label:hover {\n",
       "  color: var(--xr-font-color0);\n",
       "}\n",
       "\n",
       ".xr-section-summary {\n",
       "  grid-column: 1;\n",
       "  color: var(--xr-font-color2);\n",
       "  font-weight: 500;\n",
       "}\n",
       "\n",
       ".xr-section-summary > span {\n",
       "  display: inline-block;\n",
       "  padding-left: 0.5em;\n",
       "}\n",
       "\n",
       ".xr-section-summary-in:disabled + label {\n",
       "  color: var(--xr-font-color2);\n",
       "}\n",
       "\n",
       ".xr-section-summary-in + label:before {\n",
       "  display: inline-block;\n",
       "  content: '►';\n",
       "  font-size: 11px;\n",
       "  width: 15px;\n",
       "  text-align: center;\n",
       "}\n",
       "\n",
       ".xr-section-summary-in:disabled + label:before {\n",
       "  color: var(--xr-disabled-color);\n",
       "}\n",
       "\n",
       ".xr-section-summary-in:checked + label:before {\n",
       "  content: '▼';\n",
       "}\n",
       "\n",
       ".xr-section-summary-in:checked + label > span {\n",
       "  display: none;\n",
       "}\n",
       "\n",
       ".xr-section-summary,\n",
       ".xr-section-inline-details {\n",
       "  padding-top: 4px;\n",
       "  padding-bottom: 4px;\n",
       "}\n",
       "\n",
       ".xr-section-inline-details {\n",
       "  grid-column: 2 / -1;\n",
       "}\n",
       "\n",
       ".xr-section-details {\n",
       "  display: none;\n",
       "  grid-column: 1 / -1;\n",
       "  margin-bottom: 5px;\n",
       "}\n",
       "\n",
       ".xr-section-summary-in:checked ~ .xr-section-details {\n",
       "  display: contents;\n",
       "}\n",
       "\n",
       ".xr-array-wrap {\n",
       "  grid-column: 1 / -1;\n",
       "  display: grid;\n",
       "  grid-template-columns: 20px auto;\n",
       "}\n",
       "\n",
       ".xr-array-wrap > label {\n",
       "  grid-column: 1;\n",
       "  vertical-align: top;\n",
       "}\n",
       "\n",
       ".xr-preview {\n",
       "  color: var(--xr-font-color3);\n",
       "}\n",
       "\n",
       ".xr-array-preview,\n",
       ".xr-array-data {\n",
       "  padding: 0 5px !important;\n",
       "  grid-column: 2;\n",
       "}\n",
       "\n",
       ".xr-array-data,\n",
       ".xr-array-in:checked ~ .xr-array-preview {\n",
       "  display: none;\n",
       "}\n",
       "\n",
       ".xr-array-in:checked ~ .xr-array-data,\n",
       ".xr-array-preview {\n",
       "  display: inline-block;\n",
       "}\n",
       "\n",
       ".xr-dim-list {\n",
       "  display: inline-block !important;\n",
       "  list-style: none;\n",
       "  padding: 0 !important;\n",
       "  margin: 0;\n",
       "}\n",
       "\n",
       ".xr-dim-list li {\n",
       "  display: inline-block;\n",
       "  padding: 0;\n",
       "  margin: 0;\n",
       "}\n",
       "\n",
       ".xr-dim-list:before {\n",
       "  content: '(';\n",
       "}\n",
       "\n",
       ".xr-dim-list:after {\n",
       "  content: ')';\n",
       "}\n",
       "\n",
       ".xr-dim-list li:not(:last-child):after {\n",
       "  content: ',';\n",
       "  padding-right: 5px;\n",
       "}\n",
       "\n",
       ".xr-has-index {\n",
       "  font-weight: bold;\n",
       "}\n",
       "\n",
       ".xr-var-list,\n",
       ".xr-var-item {\n",
       "  display: contents;\n",
       "}\n",
       "\n",
       ".xr-var-item > div,\n",
       ".xr-var-item label,\n",
       ".xr-var-item > .xr-var-name span {\n",
       "  background-color: var(--xr-background-color-row-even);\n",
       "  margin-bottom: 0;\n",
       "}\n",
       "\n",
       ".xr-var-item > .xr-var-name:hover span {\n",
       "  padding-right: 5px;\n",
       "}\n",
       "\n",
       ".xr-var-list > li:nth-child(odd) > div,\n",
       ".xr-var-list > li:nth-child(odd) > label,\n",
       ".xr-var-list > li:nth-child(odd) > .xr-var-name span {\n",
       "  background-color: var(--xr-background-color-row-odd);\n",
       "}\n",
       "\n",
       ".xr-var-name {\n",
       "  grid-column: 1;\n",
       "}\n",
       "\n",
       ".xr-var-dims {\n",
       "  grid-column: 2;\n",
       "}\n",
       "\n",
       ".xr-var-dtype {\n",
       "  grid-column: 3;\n",
       "  text-align: right;\n",
       "  color: var(--xr-font-color2);\n",
       "}\n",
       "\n",
       ".xr-var-preview {\n",
       "  grid-column: 4;\n",
       "}\n",
       "\n",
       ".xr-var-name,\n",
       ".xr-var-dims,\n",
       ".xr-var-dtype,\n",
       ".xr-preview,\n",
       ".xr-attrs dt {\n",
       "  white-space: nowrap;\n",
       "  overflow: hidden;\n",
       "  text-overflow: ellipsis;\n",
       "  padding-right: 10px;\n",
       "}\n",
       "\n",
       ".xr-var-name:hover,\n",
       ".xr-var-dims:hover,\n",
       ".xr-var-dtype:hover,\n",
       ".xr-attrs dt:hover {\n",
       "  overflow: visible;\n",
       "  width: auto;\n",
       "  z-index: 1;\n",
       "}\n",
       "\n",
       ".xr-var-attrs,\n",
       ".xr-var-data {\n",
       "  display: none;\n",
       "  background-color: var(--xr-background-color) !important;\n",
       "  padding-bottom: 5px !important;\n",
       "}\n",
       "\n",
       ".xr-var-attrs-in:checked ~ .xr-var-attrs,\n",
       ".xr-var-data-in:checked ~ .xr-var-data {\n",
       "  display: block;\n",
       "}\n",
       "\n",
       ".xr-var-data > table {\n",
       "  float: right;\n",
       "}\n",
       "\n",
       ".xr-var-name span,\n",
       ".xr-var-data,\n",
       ".xr-attrs {\n",
       "  padding-left: 25px !important;\n",
       "}\n",
       "\n",
       ".xr-attrs,\n",
       ".xr-var-attrs,\n",
       ".xr-var-data {\n",
       "  grid-column: 1 / -1;\n",
       "}\n",
       "\n",
       "dl.xr-attrs {\n",
       "  padding: 0;\n",
       "  margin: 0;\n",
       "  display: grid;\n",
       "  grid-template-columns: 125px auto;\n",
       "}\n",
       "\n",
       ".xr-attrs dt,\n",
       ".xr-attrs dd {\n",
       "  padding: 0;\n",
       "  margin: 0;\n",
       "  float: left;\n",
       "  padding-right: 10px;\n",
       "  width: auto;\n",
       "}\n",
       "\n",
       ".xr-attrs dt {\n",
       "  font-weight: normal;\n",
       "  grid-column: 1;\n",
       "}\n",
       "\n",
       ".xr-attrs dt:hover span {\n",
       "  display: inline-block;\n",
       "  background: var(--xr-background-color);\n",
       "  padding-right: 10px;\n",
       "}\n",
       "\n",
       ".xr-attrs dd {\n",
       "  grid-column: 2;\n",
       "  white-space: pre-wrap;\n",
       "  word-break: break-all;\n",
       "}\n",
       "\n",
       ".xr-icon-database,\n",
       ".xr-icon-file-text2 {\n",
       "  display: inline-block;\n",
       "  vertical-align: middle;\n",
       "  width: 1em;\n",
       "  height: 1.5em !important;\n",
       "  stroke-width: 0;\n",
       "  stroke: currentColor;\n",
       "  fill: currentColor;\n",
       "}\n",
       "</style><pre class='xr-text-repr-fallback'>&lt;xarray.DataArray &#x27;TRAC21&#x27; (time: 2679, dep_c: 50, lat_c: 1080, lon_c: 2160)&gt;\n",
       "[312478560000 values with dtype=float32]\n",
       "Coordinates:\n",
       "  * lon_c    (lon_c) float64 -179.9 -179.8 -179.6 -179.4 ... 179.6 179.8 179.9\n",
       "  * lat_c    (lat_c) float64 -89.92 -89.75 -89.58 -89.42 ... 89.58 89.75 89.92\n",
       "  * dep_c    (dep_c) float64 5.0 15.0 25.0 ... 5.039e+03 5.461e+03 5.906e+03\n",
       "  * time     (time) datetime64[ns] 1993-12-31T12:00:00 ... 2015-12-30T12:00:00\n",
       "Attributes:\n",
       "    long_name:    c01 concentration\n",
       "    units:        mmol C/m^3\n",
       "    _ChunkSizes:  [1, 9, 216, 432]</pre><div class='xr-wrap' hidden><div class='xr-header'><div class='xr-obj-type'>xarray.DataArray</div><div class='xr-array-name'>'TRAC21'</div><ul class='xr-dim-list'><li><span class='xr-has-index'>time</span>: 2679</li><li><span class='xr-has-index'>dep_c</span>: 50</li><li><span class='xr-has-index'>lat_c</span>: 1080</li><li><span class='xr-has-index'>lon_c</span>: 2160</li></ul></div><ul class='xr-sections'><li class='xr-section-item'><div class='xr-array-wrap'><input id='section-ee5b7569-336a-4d76-8870-161d5875269d' class='xr-array-in' type='checkbox' checked><label for='section-ee5b7569-336a-4d76-8870-161d5875269d' title='Show/hide data repr'><svg class='icon xr-icon-database'><use xlink:href='#icon-database'></use></svg></label><div class='xr-array-preview xr-preview'><span>...</span></div><div class='xr-array-data'><pre>[312478560000 values with dtype=float32]</pre></div></div></li><li class='xr-section-item'><input id='section-146029ec-1fd4-4764-93c5-3a94eab3a888' class='xr-section-summary-in' type='checkbox'  checked><label for='section-146029ec-1fd4-4764-93c5-3a94eab3a888' class='xr-section-summary' >Coordinates: <span>(4)</span></label><div class='xr-section-inline-details'></div><div class='xr-section-details'><ul class='xr-var-list'><li class='xr-var-item'><div class='xr-var-name'><span class='xr-has-index'>lon_c</span></div><div class='xr-var-dims'>(lon_c)</div><div class='xr-var-dtype'>float64</div><div class='xr-var-preview xr-preview'>-179.9 -179.8 ... 179.8 179.9</div><input id='attrs-0f69c3b8-3cc1-48fe-9ef1-3ffee2b7e140' class='xr-var-attrs-in' type='checkbox' ><label for='attrs-0f69c3b8-3cc1-48fe-9ef1-3ffee2b7e140' title='Show/Hide attributes'><svg class='icon xr-icon-file-text2'><use xlink:href='#icon-file-text2'></use></svg></label><input id='data-887cff38-cb23-4384-a2fa-039540b942a4' class='xr-var-data-in' type='checkbox'><label for='data-887cff38-cb23-4384-a2fa-039540b942a4' title='Show/Hide data repr'><svg class='icon xr-icon-database'><use xlink:href='#icon-database'></use></svg></label><div class='xr-var-attrs'><dl class='xr-attrs'><dt><span>units :</span></dt><dd>degrees_east</dd><dt><span>long_name :</span></dt><dd>longitude</dd></dl></div><div class='xr-var-data'><pre>array([-179.916667, -179.75    , -179.583333, ...,  179.583333,  179.75    ,\n",
       "        179.916667])</pre></div></li><li class='xr-var-item'><div class='xr-var-name'><span class='xr-has-index'>lat_c</span></div><div class='xr-var-dims'>(lat_c)</div><div class='xr-var-dtype'>float64</div><div class='xr-var-preview xr-preview'>-89.92 -89.75 ... 89.75 89.92</div><input id='attrs-83801174-bd3e-45cb-9a0f-dd3f95a8528a' class='xr-var-attrs-in' type='checkbox' ><label for='attrs-83801174-bd3e-45cb-9a0f-dd3f95a8528a' title='Show/Hide attributes'><svg class='icon xr-icon-file-text2'><use xlink:href='#icon-file-text2'></use></svg></label><input id='data-5a5b0238-2903-4fa9-aeee-fc6254e5c46b' class='xr-var-data-in' type='checkbox'><label for='data-5a5b0238-2903-4fa9-aeee-fc6254e5c46b' title='Show/Hide data repr'><svg class='icon xr-icon-database'><use xlink:href='#icon-database'></use></svg></label><div class='xr-var-attrs'><dl class='xr-attrs'><dt><span>long_name :</span></dt><dd>latitude</dd><dt><span>units :</span></dt><dd>degrees_north</dd></dl></div><div class='xr-var-data'><pre>array([-89.916667, -89.75    , -89.583333, ...,  89.583333,  89.75    ,\n",
       "        89.916667])</pre></div></li><li class='xr-var-item'><div class='xr-var-name'><span class='xr-has-index'>dep_c</span></div><div class='xr-var-dims'>(dep_c)</div><div class='xr-var-dtype'>float64</div><div class='xr-var-preview xr-preview'>5.0 15.0 ... 5.461e+03 5.906e+03</div><input id='attrs-e0c12b1e-4ca8-4946-87fd-ff6e1e802de5' class='xr-var-attrs-in' type='checkbox' ><label for='attrs-e0c12b1e-4ca8-4946-87fd-ff6e1e802de5' title='Show/Hide attributes'><svg class='icon xr-icon-file-text2'><use xlink:href='#icon-file-text2'></use></svg></label><input id='data-3bbdd70e-0807-4a9f-96ff-cce4023ee3da' class='xr-var-data-in' type='checkbox'><label for='data-3bbdd70e-0807-4a9f-96ff-cce4023ee3da' title='Show/Hide data repr'><svg class='icon xr-icon-database'><use xlink:href='#icon-database'></use></svg></label><div class='xr-var-attrs'><dl class='xr-attrs'><dt><span>standard_name :</span></dt><dd>depth</dd><dt><span>positive :</span></dt><dd>down</dd><dt><span>units :</span></dt><dd>m</dd><dt><span>long_name :</span></dt><dd>depth</dd></dl></div><div class='xr-var-data'><pre>array([5.000000e+00, 1.500000e+01, 2.500000e+01, 3.500000e+01, 4.500000e+01,\n",
       "       5.500000e+01, 6.500000e+01, 7.500500e+01, 8.502500e+01, 9.509500e+01,\n",
       "       1.053100e+02, 1.158700e+02, 1.271500e+02, 1.397400e+02, 1.544700e+02,\n",
       "       1.724000e+02, 1.947350e+02, 2.227100e+02, 2.574700e+02, 2.999300e+02,\n",
       "       3.506800e+02, 4.099300e+02, 4.774700e+02, 5.527100e+02, 6.347350e+02,\n",
       "       7.224000e+02, 8.144700e+02, 9.097400e+02, 1.007155e+03, 1.105905e+03,\n",
       "       1.205535e+03, 1.306205e+03, 1.409150e+03, 1.517095e+03, 1.634175e+03,\n",
       "       1.765135e+03, 1.914150e+03, 2.084035e+03, 2.276225e+03, 2.491250e+03,\n",
       "       2.729250e+03, 2.990250e+03, 3.274250e+03, 3.581250e+03, 3.911250e+03,\n",
       "       4.264250e+03, 4.640250e+03, 5.039250e+03, 5.461250e+03, 5.906250e+03])</pre></div></li><li class='xr-var-item'><div class='xr-var-name'><span class='xr-has-index'>time</span></div><div class='xr-var-dims'>(time)</div><div class='xr-var-dtype'>datetime64[ns]</div><div class='xr-var-preview xr-preview'>1993-12-31T12:00:00 ... 2015-12-...</div><input id='attrs-2bba4cc7-a75d-4e3f-b4d4-4a9f61c496da' class='xr-var-attrs-in' type='checkbox' ><label for='attrs-2bba4cc7-a75d-4e3f-b4d4-4a9f61c496da' title='Show/Hide attributes'><svg class='icon xr-icon-file-text2'><use xlink:href='#icon-file-text2'></use></svg></label><input id='data-bfad1cff-8c14-4a03-b785-0dc6a081cb02' class='xr-var-data-in' type='checkbox'><label for='data-bfad1cff-8c14-4a03-b785-0dc6a081cb02' title='Show/Hide data repr'><svg class='icon xr-icon-database'><use xlink:href='#icon-database'></use></svg></label><div class='xr-var-attrs'><dl class='xr-attrs'><dt><span>standard_name :</span></dt><dd>time</dd><dt><span>long_name :</span></dt><dd>time</dd><dt><span>_ChunkSizes :</span></dt><dd>447</dd></dl></div><div class='xr-var-data'><pre>array([&#x27;1993-12-31T12:00:00.000000000&#x27;, &#x27;1994-01-03T12:00:00.000000000&#x27;,\n",
       "       &#x27;1994-01-06T12:00:00.000000000&#x27;, ..., &#x27;2015-12-24T12:00:00.000000000&#x27;,\n",
       "       &#x27;2015-12-27T12:00:00.000000000&#x27;, &#x27;2015-12-30T12:00:00.000000000&#x27;],\n",
       "      dtype=&#x27;datetime64[ns]&#x27;)</pre></div></li></ul></div></li><li class='xr-section-item'><input id='section-69c419aa-6603-486f-a045-96dfc18f0d0d' class='xr-section-summary-in' type='checkbox'  checked><label for='section-69c419aa-6603-486f-a045-96dfc18f0d0d' class='xr-section-summary' >Attributes: <span>(3)</span></label><div class='xr-section-inline-details'></div><div class='xr-section-details'><dl class='xr-attrs'><dt><span>long_name :</span></dt><dd>c01 concentration</dd><dt><span>units :</span></dt><dd>mmol C/m^3</dd><dt><span>_ChunkSizes :</span></dt><dd>[1, 9, 216, 432]</dd></dl></div></li></ul></div></div>"
      ],
      "text/plain": [
       "<xarray.DataArray 'TRAC21' (time: 2679, dep_c: 50, lat_c: 1080, lon_c: 2160)>\n",
       "[312478560000 values with dtype=float32]\n",
       "Coordinates:\n",
       "  * lon_c    (lon_c) float64 -179.9 -179.8 -179.6 -179.4 ... 179.6 179.8 179.9\n",
       "  * lat_c    (lat_c) float64 -89.92 -89.75 -89.58 -89.42 ... 89.58 89.75 89.92\n",
       "  * dep_c    (dep_c) float64 5.0 15.0 25.0 ... 5.039e+03 5.461e+03 5.906e+03\n",
       "  * time     (time) datetime64[ns] 1993-12-31T12:00:00 ... 2015-12-30T12:00:00\n",
       "Attributes:\n",
       "    long_name:    c01 concentration\n",
       "    units:        mmol C/m^3\n",
       "    _ChunkSizes:  [1, 9, 216, 432]"
      ]
     },
     "execution_count": 4,
     "metadata": {},
     "output_type": "execute_result"
    }
   ],
   "source": [
    "# Access the file\n",
    "dataset = catalog_entry.read_chunked()\n",
    "\n",
    "# Dimensions and Variable\n",
    "time = dataset[\"time\"]\n",
    "depth = dataset[\"dep_c\"]\n",
    "lat = dataset[\"lat_c\"]\n",
    "lon = dataset[\"lon_c\"]\n",
    "TRAC21 = dataset[\"TRAC21\"]\n",
    "\n",
    "# See what this looks like\n",
    "TRAC21"
   ]
  },
  {
   "cell_type": "code",
   "execution_count": 18,
   "metadata": {},
   "outputs": [
    {
     "data": {
      "text/plain": [
       "'c01 concentration'"
      ]
     },
     "execution_count": 18,
     "metadata": {},
     "output_type": "execute_result"
    }
   ],
   "source": [
    "TRAC21.long_name"
   ]
  },
  {
   "cell_type": "markdown",
   "metadata": {},
   "source": [
    "We can look at the attributes of a variable and get the individual attributes of a variable. We can also find out how many elements a variable has and its shape."
   ]
  },
  {
   "cell_type": "code",
   "execution_count": 5,
   "metadata": {},
   "outputs": [
    {
     "name": "stdout",
     "output_type": "stream",
     "text": [
      "Attributes of c01: {'long_name': 'c01 concentration', 'units': 'mmol C/m^3', '_ChunkSizes': [1, 9, 216, 432]}\n",
      "\n",
      "Units of depth: m\n",
      "\n",
      "c01 has 312478560000 elements and a shape of (2679, 50, 1080, 2160)\n"
     ]
    }
   ],
   "source": [
    "# Attributes of variables\n",
    "print(\"Attributes of c01: \" + str(TRAC21.attrs))\n",
    "\n",
    "# Get a particular attribute\n",
    "print('\\n' + \"Units of depth: \" + depth.attrs[\"units\"] + '\\n')\n",
    "# or depth.units also works\n",
    "\n",
    "# Inspect size and shape\n",
    "print(\"c01 has \" + str(TRAC21.size) + \" elements and a shape of \" + str(TRAC21.shape))"
   ]
  },
  {
   "cell_type": "markdown",
   "metadata": {},
   "source": [
    "When you request a slice of data it will be downloaded. Let's look at the surface of the 500th time step."
   ]
  },
  {
   "cell_type": "code",
   "execution_count": 6,
   "metadata": {},
   "outputs": [
    {
     "data": {
      "text/plain": [
       "array([[           nan,            nan,            nan, ...,\n",
       "                   nan,            nan,            nan],\n",
       "       [           nan,            nan,            nan, ...,\n",
       "                   nan,            nan,            nan],\n",
       "       [           nan,            nan,            nan, ...,\n",
       "                   nan,            nan,            nan],\n",
       "       ...,\n",
       "       [1.72604188e-17, 1.72601988e-17, 1.72598994e-17, ...,\n",
       "        1.78146232e-17, 1.78149690e-17, 1.78151576e-17],\n",
       "       [1.23494475e-17, 1.23493078e-17, 1.23491431e-17, ...,\n",
       "        1.25441204e-17, 1.25442916e-17, 1.25444157e-17],\n",
       "       [8.51455138e-18, 8.51438594e-18, 8.51428337e-18, ...,\n",
       "        9.20249764e-18, 9.20258201e-18, 9.20269616e-18]], dtype=float32)"
      ]
     },
     "execution_count": 6,
     "metadata": {},
     "output_type": "execute_result"
    }
   ],
   "source": [
    "t = 500; d = 0;\n",
    "TRAC21_data = TRAC21[t,d,:,:].data\n",
    "\n",
    "TRAC21_data"
   ]
  },
  {
   "cell_type": "markdown",
   "metadata": {},
   "source": [
    "Let's plot some things!"
   ]
  },
  {
   "cell_type": "code",
   "execution_count": 7,
   "metadata": {},
   "outputs": [
    {
     "data": {
      "image/png": "[encoded data removed]",
      "text/plain": [
       "<Figure size 432x288 with 2 Axes>"
      ]
     },
     "metadata": {
      "needs_background": "light"
     },
     "output_type": "display_data"
    }
   ],
   "source": [
    "lat_ticks = np.arange(90, -91, step=-30)\n",
    "lon_ticks = np.arange(-180, 181, step=60)\n",
    "title_txt = '\\ndepth = ' + str(depth[d].data) + ' ' + depth.units  + '\\ntime =  '+ str(time[t].data)\n",
    "\n",
    "a = np.flipud(TRAC21_data.reshape(TRAC21_data.shape[0],TRAC21_data.shape[1]))\n",
    "plt.imshow(a, cmap='hot', interpolation='nearest')\n",
    "plt.colorbar()\n",
    "plt.xticks(np.arange(0,TRAC21_data.shape[1],356),lon_ticks)\n",
    "plt.yticks(np.arange(0,TRAC21_data.shape[0],179),lat_ticks)\n",
    "plt.xlabel('Longitude')\n",
    "plt.ylabel('Latitude')\n",
    "plt.title(TRAC21.long_name +' (' + TRAC21.units + ')' + title_txt)\n",
    "plt.show()"
   ]
  },
  {
   "cell_type": "markdown",
   "metadata": {},
   "source": [
    "# Working with Data"
   ]
  },
  {
   "cell_type": "markdown",
   "metadata": {},
   "source": [
    "To show how to work with the data, we'll show how to get the total phytoplankton concentration for a particular time and depth. Note this section takes a few minutes to run."
   ]
  },
  {
   "cell_type": "code",
   "execution_count": 8,
   "metadata": {},
   "outputs": [],
   "source": [
    "flds = [\"TRAC\"+str(n) for n in range(21,72)]\n",
    "t = 500; d = 0;\n",
    "import time as tm"
   ]
  },
  {
   "cell_type": "code",
   "execution_count": 9,
   "metadata": {},
   "outputs": [
    {
     "name": "stdout",
     "output_type": "stream",
     "text": [
      "Time elapsed: 269.90907979011536\n"
     ]
    }
   ],
   "source": [
    "start = tm.time()\n",
    "dset = \"darwin_v0.2_cs510\"\n",
    "f = \"TRAC21\" # c01 concentration\n",
    "dataset = catalog[f].read_chunked()\n",
    "thresh = .0000001\n",
    "\n",
    "time = dataset[\"time\"]\n",
    "depth = dataset[\"dep_c\"]\n",
    "\n",
    "total_phyto = dataset[f][t,d,:,:].data\n",
    "total_phyto[total_phyto == -9.9999998e+33] = np.nan\n",
    "for f in flds[1:-1]:\n",
    "    dataset = catalog[f].read_chunked()\n",
    "    fld = dataset[f][t,d,:,:].data\n",
    "    #fld[fld < thresh] = 0\n",
    "    total_phyto = total_phyto + fld\n",
    "\n",
    "end = tm.time()\n",
    "print (\"Time elapsed:\", end - start)"
   ]
  },
  {
   "cell_type": "code",
   "execution_count": 10,
   "metadata": {},
   "outputs": [
    {
     "data": {
      "image/png": "[encoded data removed]",
      "text/plain": [
       "<Figure size 432x288 with 2 Axes>"
      ]
     },
     "metadata": {
      "needs_background": "light"
     },
     "output_type": "display_data"
    }
   ],
   "source": [
    "lat_ticks = np.arange(90, -91, step=-30)\n",
    "lon_ticks = np.arange(-180, 181, step=60)\n",
    "title_txt = '\\ndepth = ' + str(depth[d].data) + ' ' + depth.units  + '\\ntime =  '+ str(time[t].data)\n",
    "\n",
    "a = np.flipud(total_phyto.reshape(total_phyto.shape[0],total_phyto.shape[1]))\n",
    "plt.imshow(a, cmap='hot', interpolation='nearest')\n",
    "plt.colorbar()\n",
    "plt.xticks(np.arange(0,total_phyto.shape[1],356),lon_ticks)\n",
    "plt.yticks(np.arange(0,total_phyto.shape[0],179),lat_ticks)\n",
    "plt.xlabel('Longitude')\n",
    "plt.ylabel('Latitude')\n",
    "plt.title('Total Phytoplankton (' + TRAC21.units + ')' + title_txt)\n",
    "plt.show()"
   ]
  },
  {
   "cell_type": "code",
   "execution_count": null,
   "metadata": {},
   "outputs": [],
   "source": []
  }
 ],
 "metadata": {
  "kernelspec": {
   "display_name": "Users_chrishill_projects_myconda37",
   "language": "python",
   "name": "users_chrishill_projects_myconda37"
  },
  "language_info": {
   "codemirror_mode": {
    "name": "ipython",
    "version": 3
   },
   "file_extension": ".py",
   "mimetype": "text/x-python",
   "name": "python",
   "nbconvert_exporter": "python",
   "pygments_lexer": "ipython3",
   "version": "3.7.9"
  }
 },
 "nbformat": 4,
 "nbformat_minor": 4
}
